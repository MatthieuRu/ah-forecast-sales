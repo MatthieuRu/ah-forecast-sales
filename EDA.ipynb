{
 "cells": [
  {
   "cell_type": "markdown",
   "metadata": {},
   "source": [
    "# Business Case \n",
    "\n",
    "A significant part of the sales at Albert Heijn are promotion sales. In order to run a successful promotion campaign, it is important to obtain an understanding of the uplift in sales of certain items when put on promotion. This is not only necessary to decide on what type of promotions to run, but also to get an idea on the required levels of stock to discuss with our suppliers. The Commerce Business Unit is developing a planning tool in which they want to see the effect of promotions for the upcoming weeks  \n",
    "\n",
    " \n",
    "\n",
    "# Task \n",
    "\n",
    "* Target: Create one or more models to forecast the Unit Sales one week ahead in case of a promotion or no promotion on an article level. \n",
    "\n",
    "* Data: A redacted dataset is made available together with this assignment. This dataset contains daily sales of various AH products.. \n",
    "\n",
    "* Use the dataset.parquet file (containing data of 2016 and 2017) to build and evaluate your models. \n",
    "\n",
    " \n",
    "\n",
    "## Hard Requirements \n",
    "\n",
    "Note that the interview round will only go forward if all the below requirements are met: \n",
    "\n",
    "* Deadline <b>Monday 10:00 AM (Amsterdam Local Time)</b> before your scheduled interview \n",
    "\n",
    "* Your code is in <b>Python</b>\n",
    "\n",
    "* Your solution is made in a <b>Jupyter Notebook</b>\n",
    "\n",
    "* Your solution contains <b> at least the following components</b>: an EDA, a working model and model evaluation \n",
    "\n",
    " \n",
    "\n",
    "## Hints \n",
    "\n",
    "* Put your assumptions, decisions and approach in your Notebook (markdown) \n",
    "\n",
    "* Explain your Feature Engineering \n",
    "\n",
    "* Explain your Modeling choices \n",
    "\n",
    "* Explain your Model Evaluation and choice of metric(s). \n",
    "\n",
    "* Explain next steps to deploy your solution in production."
   ]
  },
  {
   "cell_type": "markdown",
   "metadata": {},
   "source": [
    "### Explanation of data: \n",
    "\n",
    "* DateKey: date identifier\n",
    "* StoreCount: number of stores the article is available at\n",
    "* ShelfCapacity: total capacity of shelfs over all stores\n",
    "* PromoShelfCapacity: additional ShelfCapacity during promotion \n",
    "* UnitPromotionThreshold: minimal number of articles per basket before promotion is applied\n",
    "* IsPromo: indicator if article is in promotion \n",
    "* national_holiday_[…]: indicator for specified holiday \n",
    "* SchoolHoliday[…]: indicator for holiday in north, middle or south part of NL \n",
    "* Temp[…]: minimal/maximum/average temperature of day \n",
    "* RainFallSum: total rainfall during the day (mm) \n",
    "* SundurationSum: total hours of sun during the day \n",
    "* MinAge: minimal accepted age to buy article \n",
    "* AlcoholPercentage: alcohol percentage of the article \n",
    "* CommunicationChannel: type of communication of promotion\n",
    "* ItemNumber: item identification number\n",
    "* CategoryCode: catergory identification number (product hierarchy) \n",
    "* GroupCode: group identification number (product hierarchy) \n",
    "* UnitSales: number of consumer units sold\n",
    "* DiscountPercentage: discount percentage applied when threshold is reached \n",
    "* BasePrice: price of article when article is not in promotion"
   ]
  },
  {
   "cell_type": "markdown",
   "metadata": {},
   "source": [
    "### Getting started\n",
    "The data for this interview case is provided in a parquet file that can be loaded directly into a pandas dataframe as shown below. In order for reading parquet file make sure the pyarrow package is installed."
   ]
  },
  {
   "cell_type": "markdown",
   "metadata": {},
   "source": [
    "# Business Case\n",
    "\n",
    "## 1. Explotory Data & Data Cleaning\n",
    "\n",
    "The first step of the analysis is the Exploratory data analysis. The aim is:\n",
    "- Discover Patterns\n",
    "- Spot Anomalies\n",
    "- Hypothesis &  Assumption\n"
   ]
  },
  {
   "cell_type": "code",
   "execution_count": 1,
   "metadata": {},
   "outputs": [],
   "source": [
    "import pandas as pd\n",
    "import warnings\n",
    "\n",
    "# Constants\n",
    "path = \"./assets/dataset.parquet\"\n",
    "pd.set_option(\"display.max_columns\", None)\n",
    "warnings.filterwarnings('ignore')"
   ]
  },
  {
   "cell_type": "markdown",
   "metadata": {},
   "source": [
    "## 1. First Overview Analysis"
   ]
  },
  {
   "cell_type": "code",
   "execution_count": 2,
   "metadata": {
    "scrolled": false
   },
   "outputs": [
    {
     "name": "stdout",
     "output_type": "stream",
     "text": [
      "Number of observation: 1597612\n",
      "Number of features: 35\n",
      "Variable with an unique Value ['RainFallSum', 'MinAge', 'AlcoholPercentage']\n",
      "Variable with NaN Value for ShelfCapacity 0.021527129240391282\n",
      "Variable with NaN Value for UnitPromotionThreshold 0.9241167442407794\n",
      "Variable with NaN Value for CommunicationChannel 0.923170957654299\n",
      "Variable with NaN Value for UnitSales 0.06667388577451847\n",
      "Variable with NaN Value for BasePrice 0.923170957654299\n",
      "Variable with NaN Value for DiscountPercentage 0.923170957654299\n",
      "INFO: Pandarallel will run on 12 workers.\n",
      "INFO: Pandarallel will use Memory file system to transfer data between the main process and workers.\n",
      "Number of observation: 1479823\n",
      "Number of features: 36\n"
     ]
    },
    {
     "data": {
      "text/html": [
       "<div>\n",
       "<style scoped>\n",
       "    .dataframe tbody tr th:only-of-type {\n",
       "        vertical-align: middle;\n",
       "    }\n",
       "\n",
       "    .dataframe tbody tr th {\n",
       "        vertical-align: top;\n",
       "    }\n",
       "\n",
       "    .dataframe thead th {\n",
       "        text-align: right;\n",
       "    }\n",
       "</style>\n",
       "<table border=\"1\" class=\"dataframe\">\n",
       "  <thead>\n",
       "    <tr style=\"text-align: right;\">\n",
       "      <th></th>\n",
       "      <th>DateKey</th>\n",
       "      <th>StoreCount</th>\n",
       "      <th>ShelfCapacity</th>\n",
       "      <th>PromoShelfCapacity</th>\n",
       "      <th>UnitPromotionThreshold</th>\n",
       "      <th>IsPromo</th>\n",
       "      <th>national_holiday_new_years_day</th>\n",
       "      <th>national_holiday_good_friday</th>\n",
       "      <th>national_holiday_easter_sunday</th>\n",
       "      <th>national_holiday_easter_monday</th>\n",
       "      <th>national_holiday_kings_day</th>\n",
       "      <th>national_holiday_rememberance_day</th>\n",
       "      <th>national_holiday_liberation_day</th>\n",
       "      <th>national_holiday_ascension</th>\n",
       "      <th>national_holiday_white_sunday</th>\n",
       "      <th>national_holiday_white_monday</th>\n",
       "      <th>national_holiday_christmas</th>\n",
       "      <th>national_holiday_boxing_day</th>\n",
       "      <th>SchoolHolidayMiddle</th>\n",
       "      <th>SchoolHolidayNorth</th>\n",
       "      <th>SchoolHolidaySouth</th>\n",
       "      <th>TempMin</th>\n",
       "      <th>TempMax</th>\n",
       "      <th>TempAvg</th>\n",
       "      <th>SundurationSum</th>\n",
       "      <th>CommunicationChannel</th>\n",
       "      <th>ItemNumber</th>\n",
       "      <th>CategoryCode</th>\n",
       "      <th>GroupCode</th>\n",
       "      <th>UnitSales</th>\n",
       "      <th>BasePrice</th>\n",
       "      <th>DiscountPercentage</th>\n",
       "      <th>isNationalHoliday</th>\n",
       "      <th>isSchoolHoliday</th>\n",
       "      <th>years</th>\n",
       "      <th>month</th>\n",
       "    </tr>\n",
       "  </thead>\n",
       "  <tbody>\n",
       "    <tr>\n",
       "      <th>0</th>\n",
       "      <td>2016-01-04</td>\n",
       "      <td>221</td>\n",
       "      <td>3066.0</td>\n",
       "      <td>0</td>\n",
       "      <td>NaN</td>\n",
       "      <td>False</td>\n",
       "      <td>0</td>\n",
       "      <td>0</td>\n",
       "      <td>0</td>\n",
       "      <td>0</td>\n",
       "      <td>0</td>\n",
       "      <td>0</td>\n",
       "      <td>0</td>\n",
       "      <td>0</td>\n",
       "      <td>0</td>\n",
       "      <td>0</td>\n",
       "      <td>0</td>\n",
       "      <td>0</td>\n",
       "      <td>0.0</td>\n",
       "      <td>0.0</td>\n",
       "      <td>0.0</td>\n",
       "      <td>3.572222</td>\n",
       "      <td>4.527778</td>\n",
       "      <td>4.002315</td>\n",
       "      <td>1.733333</td>\n",
       "      <td>NaN</td>\n",
       "      <td>10032</td>\n",
       "      <td>7291</td>\n",
       "      <td>5572</td>\n",
       "      <td>1151.0</td>\n",
       "      <td>NaN</td>\n",
       "      <td>NaN</td>\n",
       "      <td>0</td>\n",
       "      <td>0.0</td>\n",
       "      <td>2016</td>\n",
       "      <td>01</td>\n",
       "    </tr>\n",
       "    <tr>\n",
       "      <th>1</th>\n",
       "      <td>2016-01-05</td>\n",
       "      <td>221</td>\n",
       "      <td>3066.0</td>\n",
       "      <td>0</td>\n",
       "      <td>NaN</td>\n",
       "      <td>False</td>\n",
       "      <td>0</td>\n",
       "      <td>0</td>\n",
       "      <td>0</td>\n",
       "      <td>0</td>\n",
       "      <td>0</td>\n",
       "      <td>0</td>\n",
       "      <td>0</td>\n",
       "      <td>0</td>\n",
       "      <td>0</td>\n",
       "      <td>0</td>\n",
       "      <td>0</td>\n",
       "      <td>0</td>\n",
       "      <td>0.0</td>\n",
       "      <td>0.0</td>\n",
       "      <td>0.0</td>\n",
       "      <td>3.083333</td>\n",
       "      <td>5.416667</td>\n",
       "      <td>4.355093</td>\n",
       "      <td>1.394444</td>\n",
       "      <td>NaN</td>\n",
       "      <td>10032</td>\n",
       "      <td>7291</td>\n",
       "      <td>5572</td>\n",
       "      <td>900.0</td>\n",
       "      <td>NaN</td>\n",
       "      <td>NaN</td>\n",
       "      <td>0</td>\n",
       "      <td>0.0</td>\n",
       "      <td>2016</td>\n",
       "      <td>01</td>\n",
       "    </tr>\n",
       "    <tr>\n",
       "      <th>2</th>\n",
       "      <td>2016-01-06</td>\n",
       "      <td>221</td>\n",
       "      <td>3066.0</td>\n",
       "      <td>0</td>\n",
       "      <td>NaN</td>\n",
       "      <td>False</td>\n",
       "      <td>0</td>\n",
       "      <td>0</td>\n",
       "      <td>0</td>\n",
       "      <td>0</td>\n",
       "      <td>0</td>\n",
       "      <td>0</td>\n",
       "      <td>0</td>\n",
       "      <td>0</td>\n",
       "      <td>0</td>\n",
       "      <td>0</td>\n",
       "      <td>0</td>\n",
       "      <td>0</td>\n",
       "      <td>0.0</td>\n",
       "      <td>0.0</td>\n",
       "      <td>0.0</td>\n",
       "      <td>1.911111</td>\n",
       "      <td>2.844444</td>\n",
       "      <td>2.303472</td>\n",
       "      <td>1.616667</td>\n",
       "      <td>NaN</td>\n",
       "      <td>10032</td>\n",
       "      <td>7291</td>\n",
       "      <td>5572</td>\n",
       "      <td>1017.0</td>\n",
       "      <td>NaN</td>\n",
       "      <td>NaN</td>\n",
       "      <td>0</td>\n",
       "      <td>0.0</td>\n",
       "      <td>2016</td>\n",
       "      <td>01</td>\n",
       "    </tr>\n",
       "  </tbody>\n",
       "</table>\n",
       "</div>"
      ],
      "text/plain": [
       "     DateKey  StoreCount  ShelfCapacity  PromoShelfCapacity  \\\n",
       "0 2016-01-04         221         3066.0                   0   \n",
       "1 2016-01-05         221         3066.0                   0   \n",
       "2 2016-01-06         221         3066.0                   0   \n",
       "\n",
       "   UnitPromotionThreshold IsPromo national_holiday_new_years_day  \\\n",
       "0                     NaN   False                              0   \n",
       "1                     NaN   False                              0   \n",
       "2                     NaN   False                              0   \n",
       "\n",
       "  national_holiday_good_friday national_holiday_easter_sunday  \\\n",
       "0                            0                              0   \n",
       "1                            0                              0   \n",
       "2                            0                              0   \n",
       "\n",
       "  national_holiday_easter_monday national_holiday_kings_day  \\\n",
       "0                              0                          0   \n",
       "1                              0                          0   \n",
       "2                              0                          0   \n",
       "\n",
       "  national_holiday_rememberance_day national_holiday_liberation_day  \\\n",
       "0                                 0                               0   \n",
       "1                                 0                               0   \n",
       "2                                 0                               0   \n",
       "\n",
       "  national_holiday_ascension national_holiday_white_sunday  \\\n",
       "0                          0                             0   \n",
       "1                          0                             0   \n",
       "2                          0                             0   \n",
       "\n",
       "  national_holiday_white_monday national_holiday_christmas  \\\n",
       "0                             0                          0   \n",
       "1                             0                          0   \n",
       "2                             0                          0   \n",
       "\n",
       "  national_holiday_boxing_day SchoolHolidayMiddle SchoolHolidayNorth  \\\n",
       "0                           0                 0.0                0.0   \n",
       "1                           0                 0.0                0.0   \n",
       "2                           0                 0.0                0.0   \n",
       "\n",
       "  SchoolHolidaySouth   TempMin   TempMax   TempAvg  SundurationSum  \\\n",
       "0                0.0  3.572222  4.527778  4.002315        1.733333   \n",
       "1                0.0  3.083333  5.416667  4.355093        1.394444   \n",
       "2                0.0  1.911111  2.844444  2.303472        1.616667   \n",
       "\n",
       "  CommunicationChannel ItemNumber CategoryCode GroupCode  UnitSales  \\\n",
       "0                  NaN      10032         7291      5572     1151.0   \n",
       "1                  NaN      10032         7291      5572      900.0   \n",
       "2                  NaN      10032         7291      5572     1017.0   \n",
       "\n",
       "   BasePrice  DiscountPercentage isNationalHoliday isSchoolHoliday years month  \n",
       "0        NaN                 NaN                 0             0.0  2016    01  \n",
       "1        NaN                 NaN                 0             0.0  2016    01  \n",
       "2        NaN                 NaN                 0             0.0  2016    01  "
      ]
     },
     "execution_count": 2,
     "metadata": {},
     "output_type": "execute_result"
    }
   ],
   "source": [
    "from src.ah_forecast_sales.utils.exploratory_analysis import get_data\n",
    "from datetime import datetime\n",
    "from pandarallel import pandarallel\n",
    "\n",
    "# Path to the data parquet file\n",
    "df = get_data(path)\n",
    "print('Number of observation:', len(df))\n",
    "print('Number of features:', len(list(df)))\n",
    "\n",
    "# Useless Column (No different Value)\n",
    "uselessColumns = [x for x in list(df) if len(df[x].unique()) == 1]\n",
    "print(\n",
    "    'Variable with an unique Value',\n",
    "    uselessColumns\n",
    ")\n",
    "df = df.drop(columns=uselessColumns)\n",
    "\n",
    "# Create Column dummies values only for Hollydays\n",
    "isNationalHolidayColumns = [x for x in list(df) if 'national_holiday' in x]\n",
    "df['isNationalHoliday'] = df[isNationalHolidayColumns].max(axis=1)\n",
    "isSchoolHolidayColumns = [x for x in list(df) if 'SchoolHoliday' in x]\n",
    "df[isSchoolHolidayColumns] = df[isSchoolHolidayColumns].fillna(0)\n",
    "df['isSchoolHoliday'] = df[isSchoolHolidayColumns].sum(axis=1)\n",
    "\n",
    "\n",
    "## Create a column for Years and month\n",
    "df['years'] = df['DateKey'].apply(lambda x: str(x)[0:4])\n",
    "df['month'] = df['DateKey'].apply(lambda x: str(x)[4:6])\n",
    "\n",
    "\n",
    "# Column with NaN values\n",
    "NaNColumns = [x for x in list(df) if len(df[df[x].isna()]) > 1 ]\n",
    "for column in NaNColumns:\n",
    "    print(\n",
    "        'Variable with NaN Value for',\n",
    "        column,\n",
    "        len(df[df[column].isna()]) / len(df)\n",
    "    )\n",
    "\n",
    "\n",
    "# Transforn the DateKey to a proper variable\n",
    "def func(x):\n",
    "    return datetime.strptime(str(x), '%Y%m%d')\n",
    "\n",
    "pandarallel.initialize()\n",
    "df['DateKey'] = df.DateKey.parallel_apply(lambda x: func(x))\n",
    "\n",
    "# Drop some observation with None Values ShelfCapacity / UnitSales - See explanation Markdown Below\n",
    "df = df[\n",
    "    (~df.ShelfCapacity.isna()) &\n",
    "    (~df.UnitSales.isna())\n",
    "]\n",
    "\n",
    "categorical_variable = [\n",
    "    x for x in list(df) if 'holiday' in x.lower()\n",
    "] + [\n",
    "    'IsPromo', 'ItemNumber', 'GroupCode', 'CategoryCode', 'CommunicationChannel'\n",
    "]\n",
    "\n",
    "df[categorical_variable] = df[categorical_variable].astype(\"category\")\n",
    "\n",
    "print('Number of observation:', len(df))\n",
    "print('Number of features:', len(list(df)))\n",
    "\n",
    "# Unist Sales is the data, we would like to \n",
    "df.head(3)"
   ]
  },
  {
   "cell_type": "markdown",
   "metadata": {},
   "source": [
    "### Assumption & Decision about None Value\n",
    "\n",
    "**SchoolHolidayNorth / SchoolHolidayMiddle / SchoolHolidaySouth**\n",
    "\n",
    "69% of the time, they are NaN Values - two possibilities:\n",
    "- The data cannot be used because the data is wrong.\n",
    "- It supposed to be 0 but need to be clarified with the data provider.\n",
    "This variable is only taking in account the summer vacation. \n",
    "until that point, the decision is to fill by 0, but lets see later if *they are a need to use it in a different way*.\n",
    "\n",
    "**ShelfCapacity / UnitSales**\n",
    "\n",
    "- **ShelfCapacity** is only 2% of the data, the decision is taken to drop them. We could use the mean or the median, or a technics for NaN values but not for this low amount of data.\n",
    "- **UnitSales** is 6% of the data, but like it's the varibale, we want to forecast / modelize. This observation will be dropped and in a future we can use the future model to also fill the NaN values.\n",
    "\n",
    "**BasePrice / DiscountPercentage / UnitPromotionThreshold**\n",
    "\n",
    "The information is available when the product is on promotion. So we would like to keep it, and maybe later see the effect of this variable on the UnitsSales of this promotion.\n"
   ]
  },
  {
   "cell_type": "markdown",
   "metadata": {},
   "source": [
    "## 2. Distribution of the features (including oultlier identification)"
   ]
  },
  {
   "cell_type": "markdown",
   "metadata": {},
   "source": [
    "### A. Continious Variable "
   ]
  },
  {
   "cell_type": "code",
   "execution_count": 3,
   "metadata": {
    "scrolled": true
   },
   "outputs": [
    {
     "data": {
      "text/html": [
       "<div>\n",
       "<style scoped>\n",
       "    .dataframe tbody tr th:only-of-type {\n",
       "        vertical-align: middle;\n",
       "    }\n",
       "\n",
       "    .dataframe tbody tr th {\n",
       "        vertical-align: top;\n",
       "    }\n",
       "\n",
       "    .dataframe thead th {\n",
       "        text-align: right;\n",
       "    }\n",
       "</style>\n",
       "<table border=\"1\" class=\"dataframe\">\n",
       "  <thead>\n",
       "    <tr style=\"text-align: right;\">\n",
       "      <th></th>\n",
       "      <th>StoreCount</th>\n",
       "      <th>ShelfCapacity</th>\n",
       "      <th>PromoShelfCapacity</th>\n",
       "      <th>UnitPromotionThreshold</th>\n",
       "      <th>TempMin</th>\n",
       "      <th>TempMax</th>\n",
       "      <th>TempAvg</th>\n",
       "      <th>SundurationSum</th>\n",
       "      <th>UnitSales</th>\n",
       "      <th>BasePrice</th>\n",
       "      <th>DiscountPercentage</th>\n",
       "    </tr>\n",
       "  </thead>\n",
       "  <tbody>\n",
       "    <tr>\n",
       "      <th>count</th>\n",
       "      <td>1479823</td>\n",
       "      <td>1479823</td>\n",
       "      <td>1479823</td>\n",
       "      <td>118558</td>\n",
       "      <td>1479823</td>\n",
       "      <td>1479823</td>\n",
       "      <td>1479823</td>\n",
       "      <td>1479823</td>\n",
       "      <td>1479823</td>\n",
       "      <td>120047</td>\n",
       "      <td>120047</td>\n",
       "    </tr>\n",
       "    <tr>\n",
       "      <th>mean</th>\n",
       "      <td>480</td>\n",
       "      <td>6447</td>\n",
       "      <td>63</td>\n",
       "      <td>1</td>\n",
       "      <td>7</td>\n",
       "      <td>13</td>\n",
       "      <td>10</td>\n",
       "      <td>5</td>\n",
       "      <td>1536</td>\n",
       "      <td>4</td>\n",
       "      <td>0</td>\n",
       "    </tr>\n",
       "    <tr>\n",
       "      <th>std</th>\n",
       "      <td>330</td>\n",
       "      <td>8603</td>\n",
       "      <td>882</td>\n",
       "      <td>0</td>\n",
       "      <td>5</td>\n",
       "      <td>6</td>\n",
       "      <td>6</td>\n",
       "      <td>2</td>\n",
       "      <td>6490</td>\n",
       "      <td>3</td>\n",
       "      <td>0</td>\n",
       "    </tr>\n",
       "    <tr>\n",
       "      <th>min</th>\n",
       "      <td>1</td>\n",
       "      <td>0</td>\n",
       "      <td>0</td>\n",
       "      <td>1</td>\n",
       "      <td>-5</td>\n",
       "      <td>-1</td>\n",
       "      <td>-3</td>\n",
       "      <td>0</td>\n",
       "      <td>1</td>\n",
       "      <td>0</td>\n",
       "      <td>0</td>\n",
       "    </tr>\n",
       "    <tr>\n",
       "      <th>25%</th>\n",
       "      <td>134</td>\n",
       "      <td>1490</td>\n",
       "      <td>0</td>\n",
       "      <td>1</td>\n",
       "      <td>3</td>\n",
       "      <td>8</td>\n",
       "      <td>6</td>\n",
       "      <td>3</td>\n",
       "      <td>38</td>\n",
       "      <td>1</td>\n",
       "      <td>0</td>\n",
       "    </tr>\n",
       "    <tr>\n",
       "      <th>50%</th>\n",
       "      <td>525</td>\n",
       "      <td>4321</td>\n",
       "      <td>0</td>\n",
       "      <td>1</td>\n",
       "      <td>7</td>\n",
       "      <td>13</td>\n",
       "      <td>10</td>\n",
       "      <td>4</td>\n",
       "      <td>162</td>\n",
       "      <td>3</td>\n",
       "      <td>0</td>\n",
       "    </tr>\n",
       "    <tr>\n",
       "      <th>75%</th>\n",
       "      <td>817</td>\n",
       "      <td>8983</td>\n",
       "      <td>0</td>\n",
       "      <td>2</td>\n",
       "      <td>12</td>\n",
       "      <td>19</td>\n",
       "      <td>16</td>\n",
       "      <td>6</td>\n",
       "      <td>732</td>\n",
       "      <td>5</td>\n",
       "      <td>0</td>\n",
       "    </tr>\n",
       "    <tr>\n",
       "      <th>max</th>\n",
       "      <td>934</td>\n",
       "      <td>220205</td>\n",
       "      <td>160260</td>\n",
       "      <td>6</td>\n",
       "      <td>19</td>\n",
       "      <td>31</td>\n",
       "      <td>24</td>\n",
       "      <td>13</td>\n",
       "      <td>350410</td>\n",
       "      <td>27</td>\n",
       "      <td>2</td>\n",
       "    </tr>\n",
       "  </tbody>\n",
       "</table>\n",
       "</div>"
      ],
      "text/plain": [
       "       StoreCount  ShelfCapacity  PromoShelfCapacity  UnitPromotionThreshold  \\\n",
       "count     1479823        1479823             1479823                  118558   \n",
       "mean          480           6447                  63                       1   \n",
       "std           330           8603                 882                       0   \n",
       "min             1              0                   0                       1   \n",
       "25%           134           1490                   0                       1   \n",
       "50%           525           4321                   0                       1   \n",
       "75%           817           8983                   0                       2   \n",
       "max           934         220205              160260                       6   \n",
       "\n",
       "       TempMin  TempMax  TempAvg  SundurationSum  UnitSales  BasePrice  \\\n",
       "count  1479823  1479823  1479823         1479823    1479823     120047   \n",
       "mean         7       13       10               5       1536          4   \n",
       "std          5        6        6               2       6490          3   \n",
       "min         -5       -1       -3               0          1          0   \n",
       "25%          3        8        6               3         38          1   \n",
       "50%          7       13       10               4        162          3   \n",
       "75%         12       19       16               6        732          5   \n",
       "max         19       31       24              13     350410         27   \n",
       "\n",
       "       DiscountPercentage  \n",
       "count              120047  \n",
       "mean                    0  \n",
       "std                     0  \n",
       "min                     0  \n",
       "25%                     0  \n",
       "50%                     0  \n",
       "75%                     0  \n",
       "max                     2  "
      ]
     },
     "execution_count": 3,
     "metadata": {},
     "output_type": "execute_result"
    }
   ],
   "source": [
    "import seaborn as sns\n",
    "\n",
    "# Describe the colum only on the not continius variable\n",
    "df.describe().astype(int)"
   ]
  },
  {
   "cell_type": "code",
   "execution_count": 10,
   "metadata": {
    "scrolled": false
   },
   "outputs": [
    {
     "name": "stdout",
     "output_type": "stream",
     "text": [
      "# and % Observation outlier for column 16994 0.9885161941664645\n",
      "# and % Observation outlier for column 9706 0.9934411074838004\n",
      "# and % Observation outlier for column 15248 0.9896960650023685\n"
     ]
    },
    {
     "data": {
      "text/plain": [
       "<AxesSubplot:ylabel='Density'>"
      ]
     },
     "execution_count": 10,
     "metadata": {},
     "output_type": "execute_result"
    },
    {
     "data": {
      "image/png": "[encoded data removed]",
      "text/plain": [
       "<Figure size 1080x360 with 3 Axes>"
      ]
     },
     "metadata": {
      "needs_background": "light"
     },
     "output_type": "display_data"
    },
    {
     "data": {
      "image/png": "[encoded data removed]",
      "text/plain": [
       "<Figure size 1080x360 with 3 Axes>"
      ]
     },
     "metadata": {
      "needs_background": "light"
     },
     "output_type": "display_data"
    },
    {
     "data": {
      "image/png": "[encoded data removed]",
      "text/plain": [
       "<Figure size 432x288 with 1 Axes>"
      ]
     },
     "metadata": {
      "needs_background": "light"
     },
     "output_type": "display_data"
    }
   ],
   "source": [
    "from scipy import stats\n",
    "import matplotlib.pyplot as plt\n",
    "import numpy as np\n",
    "\n",
    "# Do we have outlier in UnitSales and PromoShelfCapacity and ShelfCapacity \n",
    "# the max is really high compare to the 0.75 percentile\n",
    "fig, axes = plt.subplots(1, 3, figsize=(15, 5), sharex=True)\n",
    "for column, ax in zip(['UnitSales', 'PromoShelfCapacity', 'ShelfCapacity'], axes):\n",
    "    ax = sns.boxplot(y=column, data=df, ax=ax)\n",
    "    ax.set_ylabel('')\n",
    "    ax.set_title(column)\n",
    "\n",
    "fig, axes = plt.subplots(1, 3, figsize=(15, 5), sharex=True)\n",
    "\n",
    "# Outliers are either 3×IQR or more above the third quartile or 3×IQR or more below the first quartile.\n",
    "for column, ax in zip(['UnitSales', 'PromoShelfCapacity', 'ShelfCapacity'], axes):\n",
    "    tmp = df[\n",
    "        np.abs(df[column]-df[column].mean()) <= (3*df[column].std())\n",
    "    ]\n",
    "    print(\n",
    "        '# and % Observation outlier for column',\n",
    "        len(df) - len(tmp),\n",
    "        len(tmp) / len(df)\n",
    "\n",
    "    \n",
    "    )\n",
    "    ax = sns.boxplot(y=column, data=tmp, ax=ax)\n",
    "    ax.set_ylabel('')\n",
    "    ax.set_title(column)\n",
    "\n",
    "df[['UnitSales', 'PromoShelfCapacity', 'ShelfCapacity']].plot.kde(bw_method=3)"
   ]
  },
  {
   "cell_type": "markdown",
   "metadata": {},
   "source": [
    "#### Hypothesis and Decision making about the Outlier Values\n",
    "\n",
    "We identify variable with possible outlier because their maximum is really higher than the 0.75 percentile.\n",
    "\n",
    "\n",
    "1. For **PromoShelfCapacity** and **ShelfCapacity** we can vizualise some real outlier above 150000.\n",
    "2. For **UnitSale**, its not really the case because its looks going up in a continuious way.\n",
    "\n",
    "So far not decision has been taken about this data but important to keep in mind during the *modelisation & forecast*.\n"
   ]
  },
  {
   "cell_type": "markdown",
   "metadata": {},
   "source": [
    "### B Categorical variables\n"
   ]
  },
  {
   "cell_type": "code",
   "execution_count": 5,
   "metadata": {
    "scrolled": false
   },
   "outputs": [
    {
     "data": {
      "image/png": "[encoded data removed]",
      "text/plain": [
       "<Figure size 1440x360 with 6 Axes>"
      ]
     },
     "metadata": {
      "needs_background": "light"
     },
     "output_type": "display_data"
    },
    {
     "data": {
      "image/png": "[encoded data removed]",
      "text/plain": [
       "<Figure size 1440x360 with 6 Axes>"
      ]
     },
     "metadata": {
      "needs_background": "light"
     },
     "output_type": "display_data"
    },
    {
     "data": {
      "image/png": "[encoded data removed]",
      "text/plain": [
       "<Figure size 1440x360 with 6 Axes>"
      ]
     },
     "metadata": {
      "needs_background": "light"
     },
     "output_type": "display_data"
    },
    {
     "data": {
      "image/png": "[encoded data removed]",
      "text/plain": [
       "<Figure size 1440x360 with 4 Axes>"
      ]
     },
     "metadata": {
      "needs_background": "light"
     },
     "output_type": "display_data"
    }
   ],
   "source": [
    "import seaborn as sns\n",
    "import matplotlib.pyplot as plt\n",
    "\n",
    "\n",
    "fig, axes = plt.subplots(1, 6, figsize=(20, 5), sharex=False)\n",
    "for column, ax in zip(list(df.select_dtypes('category'))[0:6], axes):\n",
    "    ax = sns.countplot(df[column], ax=ax)\n",
    "    ax.get_yaxis().set_visible(False)\n",
    "\n",
    "fig, axes = plt.subplots(1, 6, figsize=(20, 5), sharex=False)\n",
    "for column, ax in zip(list(df.select_dtypes('category'))[6:12], axes):\n",
    "    ax = sns.countplot(df[column], ax=ax)\n",
    "    ax.get_yaxis().set_visible(False)\n",
    "\n",
    "fig, axes = plt.subplots(1, 6, figsize=(20, 5), sharex=False)\n",
    "for column, ax in zip(\n",
    "    list(df.select_dtypes('category'))[12:16] + list(df.select_dtypes('category'))[20:22]\n",
    "    , axes):\n",
    "    ax = sns.countplot(df[column], ax=ax)\n",
    "    ax.get_yaxis().set_visible(False)\n",
    "\n",
    "fig, axes = plt.subplots(1, 4, figsize=(20, 5), sharex=False)\n",
    "for column, ax in zip(list(df.select_dtypes('category'))[16:20], axes):\n",
    "    ax = sns.countplot(df[column], ax=ax)\n",
    "    ax.get_yaxis().set_visible(False)\n",
    "    ax.get_xaxis().set_visible(False),\n",
    "    ax.set_title(column)\n"
   ]
  },
  {
   "cell_type": "code",
   "execution_count": 6,
   "metadata": {},
   "outputs": [
    {
     "name": "stdout",
     "output_type": "stream",
     "text": [
      "First Promotion appears at 2016-11-07 00:00:00\n"
     ]
    },
    {
     "data": {
      "text/html": [
       "<div>\n",
       "<style scoped>\n",
       "    .dataframe tbody tr th:only-of-type {\n",
       "        vertical-align: middle;\n",
       "    }\n",
       "\n",
       "    .dataframe tbody tr th {\n",
       "        vertical-align: top;\n",
       "    }\n",
       "\n",
       "    .dataframe thead th {\n",
       "        text-align: right;\n",
       "    }\n",
       "</style>\n",
       "<table border=\"1\" class=\"dataframe\">\n",
       "  <thead>\n",
       "    <tr style=\"text-align: right;\">\n",
       "      <th></th>\n",
       "      <th>years</th>\n",
       "      <th>IsPromo</th>\n",
       "      <th>0</th>\n",
       "    </tr>\n",
       "  </thead>\n",
       "  <tbody>\n",
       "    <tr>\n",
       "      <th>0</th>\n",
       "      <td>2016</td>\n",
       "      <td>False</td>\n",
       "      <td>693104</td>\n",
       "    </tr>\n",
       "    <tr>\n",
       "      <th>1</th>\n",
       "      <td>2016</td>\n",
       "      <td>True</td>\n",
       "      <td>10636</td>\n",
       "    </tr>\n",
       "    <tr>\n",
       "      <th>2</th>\n",
       "      <td>2017</td>\n",
       "      <td>False</td>\n",
       "      <td>671059</td>\n",
       "    </tr>\n",
       "    <tr>\n",
       "      <th>3</th>\n",
       "      <td>2017</td>\n",
       "      <td>True</td>\n",
       "      <td>105024</td>\n",
       "    </tr>\n",
       "  </tbody>\n",
       "</table>\n",
       "</div>"
      ],
      "text/plain": [
       "  years IsPromo       0\n",
       "0  2016   False  693104\n",
       "1  2016    True   10636\n",
       "2  2017   False  671059\n",
       "3  2017    True  105024"
      ]
     },
     "execution_count": 6,
     "metadata": {},
     "output_type": "execute_result"
    }
   ],
   "source": [
    "## Numner of Promo by year\n",
    "print(\n",
    "    'First Promotion appears at',\n",
    "    df[df.IsPromo].sort_values('DateKey', ascending=True).DateKey.tolist()[0]\n",
    ")\n",
    "\n",
    "df.groupby(['years', 'IsPromo']).size().reset_index()"
   ]
  },
  {
   "cell_type": "markdown",
   "metadata": {},
   "source": [
    "1. The **National Holiday** is equal to 1, only in really few obseravations. It links to the fact this National Holiday happends only one day during the year. \n",
    "\n",
    "That's why the decision has been taken to **regroup all of them under a new features isNastionalHoliday which is the max value from all the individual the National Holiday.**\n",
    "\n",
    "\n",
    "2. The **School Holiday** is different to the area in the Netherlands but we don't have any information about the location of the store.\n",
    "\n",
    "But one Hypothesis we can have is:\n",
    "\n",
    "*More we have people in vacation, can it effect the UnitSales in a positive or negative way?*\n",
    "\n",
    "That's why the decision has been taken to **regroup all of them under a new features isShoolHoliday which is the sum value from all the individual the School Holiday.**\n",
    "\n",
    "3. The **IsPromo** is one of the most important variable. Because we want to know what is the impact from the promotion on the UnitSales. but here the first promotion appear in November 2016 so either\n",
    "\n",
    "a. Albert Heijn never use promotion before November 2016 for this product\n",
    "\n",
    "b. Albert Heijn didn't track promotion before November 2016 for this product\n",
    "\n",
    "That's quite important, because if we provide wrong labelled data in the model, we can excpect wrong forecast.\n",
    "So if the issues is the tracking of the promotion before November. We may need to not use data before **November 2016**\n",
    "\n",
    "\n",
    "4. **CommunicationChannel** is a variable available only when they is a promotion. It would be able to use it to answer to the hypothesis:\n",
    "\n",
    "*Once we have a promotion, does the CommunicationChannel has impact on the UnitSales ?*\n"
   ]
  },
  {
   "cell_type": "markdown",
   "metadata": {},
   "source": [
    "## 3. Correlation & Feature correlated to UnitSales"
   ]
  },
  {
   "cell_type": "markdown",
   "metadata": {},
   "source": [
    "We use two different way to calculate the correlation between variable:\n",
    "\n",
    "- Use the *Pearson correlation coefficient* to examine the strength and direction of the linear relationship between two **continuous variables**.\n",
    "- a bar plot represents an estimate of *central tendency for a numeric variable *with  the height of each rectangle and provides some indication  of the uncertainty around that estimate using error bars\n"
   ]
  },
  {
   "cell_type": "code",
   "execution_count": 7,
   "metadata": {
    "scrolled": false
   },
   "outputs": [
    {
     "data": {
      "image/png": "[encoded data removed]",
      "text/plain": [
       "<Figure size 432x288 with 2 Axes>"
      ]
     },
     "metadata": {
      "needs_background": "light"
     },
     "output_type": "display_data"
    }
   ],
   "source": [
    "## Correlation for not dummies Variable\n",
    "corrMatrix = df.corr()\n",
    "sns.heatmap(corrMatrix)\n",
    "plt.show()"
   ]
  },
  {
   "cell_type": "code",
   "execution_count": 8,
   "metadata": {},
   "outputs": [
    {
     "data": {
      "image/png": "[encoded data removed]",
      "text/plain": [
       "<Figure size 1440x360 with 6 Axes>"
      ]
     },
     "metadata": {
      "needs_background": "light"
     },
     "output_type": "display_data"
    },
    {
     "data": {
      "image/png": "[encoded data removed]",
      "text/plain": [
       "<Figure size 1440x360 with 6 Axes>"
      ]
     },
     "metadata": {
      "needs_background": "light"
     },
     "output_type": "display_data"
    },
    {
     "data": {
      "image/png": "[encoded data removed]",
      "text/plain": [
       "<Figure size 1440x360 with 6 Axes>"
      ]
     },
     "metadata": {
      "needs_background": "light"
     },
     "output_type": "display_data"
    },
    {
     "data": {
      "image/png": "[encoded data removed]",
      "text/plain": [
       "<Figure size 1440x360 with 2 Axes>"
      ]
     },
     "metadata": {
      "needs_background": "light"
     },
     "output_type": "display_data"
    }
   ],
   "source": [
    "import seaborn as sns\n",
    "\n",
    "\n",
    "fig, axes = plt.subplots(1, 6, figsize=(20, 5), sharex=False)\n",
    "for column, ax in zip(list(df.select_dtypes('category'))[0:6], axes):\n",
    "    ax = sns.barplot(\n",
    "        x=column,\n",
    "        y='UnitSales',\n",
    "        data=df.sample(frac=0.2, random_state=1), \n",
    "        ax =ax\n",
    "    )    \n",
    "    ax.set_title('UnitSales')\n",
    "    ax.get_yaxis().set_visible(False)\n",
    "\n",
    "fig, axes = plt.subplots(1, 6, figsize=(20, 5), sharex=False)\n",
    "for column, ax in zip(list(df.select_dtypes('category'))[6:12], axes):\n",
    "    ax = sns.barplot(\n",
    "        x=column,\n",
    "        y='UnitSales',\n",
    "        data=df.sample(frac=0.2, random_state=1),\n",
    "        ax =ax\n",
    "    )    \n",
    "    ax.set_title('UnitSales')\n",
    "    ax.get_yaxis().set_visible(False)\n",
    "\n",
    "fig, axes = plt.subplots(1, 6, figsize=(20, 5), sharex=False)\n",
    "for column, ax in zip(\n",
    "    list(df.select_dtypes('category'))[12:16] + list(df.select_dtypes('category'))[20:22]\n",
    "    , axes):\n",
    "    ax = sns.barplot(\n",
    "        x=column,\n",
    "        y='UnitSales',\n",
    "        data=df.sample(frac=0.2, random_state=1),\n",
    "        ax =ax\n",
    "    )    \n",
    "    ax.set_title('UnitSales')   \n",
    "    ax.get_yaxis().set_visible(False)\n",
    "\n",
    "\n",
    "fig, axes = plt.subplots(1, 2, figsize=(20, 5), sharex=False)\n",
    "for column, ax in zip(\n",
    "    list(df.select_dtypes('category'))[16:17] + list(df.select_dtypes('category'))[18:19]\n",
    "    , axes):\n",
    "    ax = sns.barplot(\n",
    "        x=column,\n",
    "        y='UnitSales',\n",
    "        data=df.sample(frac=0.3, random_state=1),\n",
    "        ax =ax\n",
    "    )    \n",
    "    ax.set_ylabel('UnitSales')\n",
    "    ax.get_yaxis().set_visible(False)\n"
   ]
  },
  {
   "cell_type": "markdown",
   "metadata": {},
   "source": [
    "From **UnitSales point of view**, they are correlated variable. This part is really important because it will help us to see wich variable we can use during the modelisation & forecast.\n",
    "\n",
    "It's also important to notice that if we want to forecast the value of UnitSales using correlated variable. we also need to *have this information or to forecast it*.\n",
    "\n",
    "In this case, they are different types of variable which is **impacted the UnitSales positively**:\n",
    "\n",
    "- The **Supply variables**: StoreCount, ShelfCapacity -> More the product is available (store, Shelf), more the product is sold.\n",
    "- The **Promotion variables**: PromotionShelfCapacity, UnitPromotionThreshold, IsPromo, COmmunicationChannel. -> A product on promotion is sold more nut depending on the promotion the UnitSales can also change.\n",
    "\n",
    "To identify different type of promotion during the modelisation. It's important to know this information. For example the way of communication about the promotion will be able to explain between:\n",
    "\n",
    "- **high and UnitSales at two differents time for the same product on promotion**\n",
    "\n",
    "\n",
    "Also,  they are a negative correlation between NationalHolliday and the UnitSales. We could procceed this variable differently:\n",
    "\n",
    "**Create a variable around the date for each National Holiday. For example the the effect of christmas on the sales effect more the weeks before christmas than the day by itself.**"
   ]
  },
  {
   "cell_type": "markdown",
   "metadata": {},
   "source": [
    "## 4. Number of Item with enough informaton"
   ]
  },
  {
   "cell_type": "code",
   "execution_count": 9,
   "metadata": {
    "scrolled": false
   },
   "outputs": [
    {
     "name": "stdout",
     "output_type": "stream",
     "text": [
      "# of item: 3199\n",
      "# of item at least once in Promo: 2091\n",
      "# of item at least 25 observation in 2017 in promotion and not in promotion: 1287\n"
     ]
    },
    {
     "data": {
      "image/png": "[encoded data removed]",
      "text/plain": [
       "<Figure size 432x288 with 1 Axes>"
      ]
     },
     "metadata": {
      "needs_background": "light"
     },
     "output_type": "display_data"
    },
    {
     "data": {
      "image/png": "[encoded data removed]",
      "text/plain": [
       "<Figure size 432x288 with 1 Axes>"
      ]
     },
     "metadata": {},
     "output_type": "display_data"
    }
   ],
   "source": [
    "import sys\n",
    "from src.ah_forecast_sales.utils.exploratory_analysis import get_sample\n",
    "del sys.modules['src.ah_forecast_sales.utils.exploratory_analysis']\n",
    "from src.ah_forecast_sales.utils.exploratory_analysis import get_sample\n",
    "import matplotlib.pyplot as plt\n",
    "\n",
    "## Get \n",
    "tmp = df.copy()\n",
    "tmp.IsPromo = tmp.IsPromo.astype(bool)\n",
    "sample = get_sample(tmp, sample_extract=False)\n",
    "\n",
    "## item Universe\n",
    "universe = len(df.ItemNumber.unique())\n",
    "print(\n",
    "    '# of item:',\n",
    "    universe\n",
    ")\n",
    "\n",
    "## item universe with Promo\n",
    "promo_universe = len(df[df.IsPromo].ItemNumber.unique())\n",
    "print(\n",
    "    '# of item at least once in Promo:',\n",
    "    promo_universe\n",
    ")\n",
    "\n",
    "## item 25 observation (get 25 because of what we are going to use in Modelisation)\n",
    "# There is a parameter for every changepoint in fbForecast(n_changepoints of them, default 25)\n",
    "high_quality = len(sample.ItemNumber.unique())\n",
    "print(\n",
    "    '# of item at least 25 observation in 2017 in promotion and not in promotion:',\n",
    "    high_quality\n",
    ")\n",
    "\n",
    "\n",
    "distribution = df.groupby(['ItemNumber']).size().reset_index().rename(\n",
    "    columns={0: 'occurence'}\n",
    ").sort_values('occurence')\n",
    "\n",
    "\n",
    "distribution.occurence.hist()\n",
    "distribution.describe()\n",
    "\n",
    "# Pie chart\n",
    "labels = 'Low Quality',  'High Quality', 'Medium Quality', \n",
    "sizes = [universe-promo_universe, high_quality, promo_universe-high_quality]\n",
    "explode = (0, 0.1, 0)  # only \"explode\" the 2nd slice (i.e. 'Hogs')\n",
    "\n",
    "fig1, ax1 = plt.subplots()\n",
    "ax1.pie(sizes, explode=explode, labels=labels, autopct='%1.1f%%',\n",
    "        shadow=True, startangle=90)\n",
    "ax1.axis('equal')  # Equal aspect ratio ensures that pie is drawn as a circle.\n",
    "\n",
    "plt.show()"
   ]
  },
  {
   "cell_type": "markdown",
   "metadata": {},
   "source": [
    "The goal of the forecast is to modelise the UnitsSales on promotion or not. \n",
    "My assumption is to predict the future of the dataset (Like we have information from 2016 & 2017) i will try to forecast the **first week of 2018**\n",
    "\n",
    "So the **requirement** of the data is:\n",
    "- At least data with and without promo\n",
    "- The data needed should be from 2017\n",
    "\n",
    "Depending on the model, we are going to use we can have more requierement.\n",
    "\n",
    "The quality of a forecast is based on the quality of the data which is feeded a model.\n",
    "\n",
    "So far, we are going to work only and select the data based on the quality of the forecast of the high quality bucket.\n"
   ]
  },
  {
   "cell_type": "code",
   "execution_count": null,
   "metadata": {},
   "outputs": [],
   "source": [
    "### KPI & information "
   ]
  }
 ],
 "metadata": {
  "kernelspec": {
   "display_name": "Python 3 (ipykernel)",
   "language": "python",
   "name": "python3"
  },
  "language_info": {
   "codemirror_mode": {
    "name": "ipython",
    "version": 3
   },
   "file_extension": ".py",
   "mimetype": "text/x-python",
   "name": "python",
   "nbconvert_exporter": "python",
   "pygments_lexer": "ipython3",
   "version": "3.7.11"
  }
 },
 "nbformat": 4,
 "nbformat_minor": 4
}
